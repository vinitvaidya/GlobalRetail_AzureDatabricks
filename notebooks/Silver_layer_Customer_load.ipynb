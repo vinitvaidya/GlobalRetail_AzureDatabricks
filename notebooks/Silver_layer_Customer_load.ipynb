{
 "cells": [
  {
   "cell_type": "code",
   "execution_count": 0,
   "metadata": {
    "application/vnd.databricks.v1+cell": {
     "cellMetadata": {
      "byteLimit": 2048000,
      "rowLimit": 10000
     },
     "inputWidgets": {},
     "nuid": "c0213665-8daf-4dc6-b2b8-3fb7e9de0971",
     "showTitle": false,
     "tableResultSettingsMap": {},
     "title": ""
    }
   },
   "outputs": [],
   "source": [
    "spark.sql(\"use globalretail_silver\")\n",
    "spark.sql(\"\"\"\n",
    "          create table if not exists silver_customers (\n",
    "          customer_id string,\n",
    "          name string,\n",
    "          email string,\n",
    "          country string,\n",
    "          customer_type string,\n",
    "          registration_date string,\n",
    "          age int,\n",
    "          gender string,\n",
    "          total_purchases int,\n",
    "          customer_segment string,\n",
    "          days_since_registration int,\n",
    "          last_updated timestamp\n",
    "          )\n",
    "          \"\"\")"
   ]
  },
  {
   "cell_type": "code",
   "execution_count": 0,
   "metadata": {
    "application/vnd.databricks.v1+cell": {
     "cellMetadata": {
      "byteLimit": 2048000,
      "rowLimit": 10000
     },
     "inputWidgets": {},
     "nuid": "a0e26efa-20a4-4407-a9bb-376f1b8ca0fb",
     "showTitle": false,
     "tableResultSettingsMap": {},
     "title": ""
    }
   },
   "outputs": [],
   "source": [
    "#get the last processed timestamp from silver layer\n",
    "last_processed_df = spark.sql(\"select max(last_updated) as last_processed from silver_customers\")\n",
    "last_processed_timestamp = last_processed_df.collect()[0]['last_processed']\n",
    "\n",
    "if last_processed_timestamp is None:\n",
    "    last_processed_timestamp = '1900-01-01T00:00:00.000+00:00'"
   ]
  },
  {
   "cell_type": "code",
   "execution_count": 0,
   "metadata": {
    "application/vnd.databricks.v1+cell": {
     "cellMetadata": {
      "byteLimit": 2048000,
      "rowLimit": 10000
     },
     "inputWidgets": {},
     "nuid": "d5b5cdb3-4854-42d0-8f23-e662cdc22fb2",
     "showTitle": false,
     "tableResultSettingsMap": {},
     "title": ""
    }
   },
   "outputs": [],
   "source": [
    "#create a temporary view of incremental bronze data\n",
    "spark.sql(f\"\"\"\n",
    "          create or replace temporary view bronze_incremental as\n",
    "          select *\n",
    "          from globalretail_bronze.bronze_customer as c where c.ingestion_timestamp > '{last_processed_timestamp}'\n",
    "          \"\"\")"
   ]
  },
  {
   "cell_type": "code",
   "execution_count": 0,
   "metadata": {
    "application/vnd.databricks.v1+cell": {
     "cellMetadata": {
      "byteLimit": 2048000,
      "rowLimit": 10000
     },
     "inputWidgets": {},
     "nuid": "0c3a4efd-c73c-4c9a-befe-ea87fe8ca33d",
     "showTitle": false,
     "tableResultSettingsMap": {},
     "title": ""
    }
   },
   "outputs": [],
   "source": [
    "spark.sql(\"select * from bronze_incremental\").show()"
   ]
  },
  {
   "cell_type": "code",
   "execution_count": 0,
   "metadata": {
    "application/vnd.databricks.v1+cell": {
     "cellMetadata": {},
     "inputWidgets": {},
     "nuid": "4560d1a0-1d38-4620-8941-71ce060d6117",
     "showTitle": false,
     "tableResultSettingsMap": {},
     "title": ""
    }
   },
   "outputs": [],
   "source": [
    "#validate email address (null or not null)\n",
    "#valid age between 18 to 100\n",
    "#create customer_segment as total_purchases > 10000 then 'High Value' if total_purchases > 5000 then 'Medium Value' else 'Low Value'\n",
    "#days since user is registered in the system\n",
    "#remove any junk records where total_purchases is negative number"
   ]
  },
  {
   "cell_type": "code",
   "execution_count": 0,
   "metadata": {
    "application/vnd.databricks.v1+cell": {
     "cellMetadata": {
      "byteLimit": 2048000,
      "rowLimit": 10000
     },
     "inputWidgets": {},
     "nuid": "c34c1668-8804-4f17-9241-6f4cf6f5a218",
     "showTitle": false,
     "tableResultSettingsMap": {},
     "title": ""
    }
   },
   "outputs": [],
   "source": [
    "spark.sql(\"\"\"\n",
    "          create or replace temporary view silver_incremental as\n",
    "          select\n",
    "          customer_id,\n",
    "          name,\n",
    "          email,\n",
    "          country,\n",
    "          customer_type,\n",
    "          registration_date,\n",
    "          age,\n",
    "          gender,\n",
    "          total_purchases,\n",
    "          case\n",
    "          when total_purchases > 10000 then 'High Value'\n",
    "          when total_purchases > 5000 then 'Medium Value'\n",
    "          else 'Low Value'\n",
    "          end as customer_segment,\n",
    "          datediff(current_date(), registration_date) as days_since_registration,\n",
    "          current_timestamp() as last_updated\n",
    "          from bronze_incremental\n",
    "          where age between 18 and 100\n",
    "          and email is not null\n",
    "          and total_purchases >= 0\n",
    "          \"\"\")"
   ]
  },
  {
   "cell_type": "code",
   "execution_count": 0,
   "metadata": {
    "application/vnd.databricks.v1+cell": {
     "cellMetadata": {
      "byteLimit": 2048000,
      "rowLimit": 10000
     },
     "inputWidgets": {},
     "nuid": "e190549c-456f-4065-981c-50544977ae61",
     "showTitle": false,
     "tableResultSettingsMap": {},
     "title": ""
    }
   },
   "outputs": [],
   "source": [
    "display(spark.sql(\"select * from silver_incremental\"))"
   ]
  },
  {
   "cell_type": "code",
   "execution_count": 0,
   "metadata": {
    "application/vnd.databricks.v1+cell": {
     "cellMetadata": {
      "byteLimit": 2048000,
      "rowLimit": 10000
     },
     "inputWidgets": {},
     "nuid": "6005895f-c660-4ca2-a50b-de8818412db3",
     "showTitle": false,
     "tableResultSettingsMap": {},
     "title": ""
    }
   },
   "outputs": [],
   "source": [
    "spark.sql(\"\"\"\n",
    "          merge into silver_customers target\n",
    "          using silver_incremental source\n",
    "          on target.customer_id = source.customer_id\n",
    "          when matched then update set *\n",
    "          when not matched then insert *\n",
    "          \"\"\")"
   ]
  },
  {
   "cell_type": "code",
   "execution_count": 0,
   "metadata": {
    "application/vnd.databricks.v1+cell": {
     "cellMetadata": {
      "byteLimit": 2048000,
      "rowLimit": 10000
     },
     "inputWidgets": {},
     "nuid": "bccbe40d-f95e-49a5-b892-35e0b36a4e63",
     "showTitle": false,
     "tableResultSettingsMap": {},
     "title": ""
    }
   },
   "outputs": [],
   "source": [
    "spark.sql(\"select count(*) from silver_customers\").show()"
   ]
  },
  {
   "cell_type": "code",
   "execution_count": 0,
   "metadata": {
    "application/vnd.databricks.v1+cell": {
     "cellMetadata": {},
     "inputWidgets": {},
     "nuid": "b298fa3f-c7f2-4df6-b295-2eb2c249081e",
     "showTitle": false,
     "tableResultSettingsMap": {},
     "title": ""
    }
   },
   "outputs": [],
   "source": []
  }
 ],
 "metadata": {
  "application/vnd.databricks.v1+notebook": {
   "computePreferences": null,
   "dashboards": [],
   "environmentMetadata": {
    "base_environment": "",
    "client": "1"
   },
   "language": "python",
   "notebookMetadata": {
    "pythonIndentUnit": 4
   },
   "notebookName": "Silver_layer_Customer_load",
   "widgets": {}
  },
  "language_info": {
   "name": "python"
  }
 },
 "nbformat": 4,
 "nbformat_minor": 0
}
