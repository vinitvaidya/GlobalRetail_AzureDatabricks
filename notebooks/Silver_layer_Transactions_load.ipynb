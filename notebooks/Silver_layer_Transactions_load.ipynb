{
 "cells": [
  {
   "cell_type": "code",
   "execution_count": 0,
   "metadata": {
    "application/vnd.databricks.v1+cell": {
     "cellMetadata": {
      "byteLimit": 2048000,
      "rowLimit": 10000
     },
     "inputWidgets": {},
     "nuid": "5bd5854f-cee0-462b-8373-cd641729ebf4",
     "showTitle": false,
     "tableResultSettingsMap": {},
     "title": ""
    }
   },
   "outputs": [],
   "source": [
    "spark.sql(\"use globalretail_silver\")\n",
    "spark.sql(\"\"\"\n",
    "          create table if not exists silver_orders(\n",
    "              transaction_id string,\n",
    "              customer_id string,\n",
    "              product_id string,\n",
    "              quantity int,\n",
    "              total_amount double,\n",
    "              transaction_date date,\n",
    "              payment_method string,\n",
    "              store_type string,\n",
    "              order_status string,\n",
    "              last_updated timestamp\n",
    "          )\n",
    "          using delta\n",
    "          \"\"\")"
   ]
  },
  {
   "cell_type": "code",
   "execution_count": 0,
   "metadata": {
    "application/vnd.databricks.v1+cell": {
     "cellMetadata": {
      "byteLimit": 2048000,
      "rowLimit": 10000
     },
     "inputWidgets": {},
     "nuid": "afc7bf19-6014-4f78-9df8-fce2d02bd4f9",
     "showTitle": false,
     "tableResultSettingsMap": {},
     "title": ""
    }
   },
   "outputs": [],
   "source": [
    "#get the last processed timestamp from silver layer\n",
    "last_processed_df = spark.sql(\"select max(last_updated) as last_processed from silver_orders\")\n",
    "last_processed_timestamp = last_processed_df.collect()[0]['last_processed']\n",
    "if last_processed_timestamp is None:\n",
    "    last_processed_timestamp = '1900-01-01T00:00:00.000+00:00'"
   ]
  },
  {
   "cell_type": "code",
   "execution_count": 0,
   "metadata": {
    "application/vnd.databricks.v1+cell": {
     "cellMetadata": {
      "byteLimit": 2048000,
      "rowLimit": 10000
     },
     "inputWidgets": {},
     "nuid": "95aef68e-1d91-4dfc-97fe-30d2ed9c8b9b",
     "showTitle": false,
     "tableResultSettingsMap": {},
     "title": ""
    }
   },
   "outputs": [],
   "source": [
    "#create a temporary view of incremental bronze data\n",
    "spark.sql(f\"\"\"\n",
    "          create or replace temporary view bronze_incremental_orders as\n",
    "          select *\n",
    "          from \n",
    "          globalretail_bronze.bronze_transactions\n",
    "          where ingestion_timestamp > '{last_processed_timestamp}'\n",
    "          \"\"\")"
   ]
  },
  {
   "cell_type": "code",
   "execution_count": 0,
   "metadata": {
    "application/vnd.databricks.v1+cell": {
     "cellMetadata": {
      "byteLimit": 2048000,
      "rowLimit": 10000
     },
     "inputWidgets": {},
     "nuid": "23e1f3bf-6ed3-45d7-96f0-6399429c2adc",
     "showTitle": false,
     "tableResultSettingsMap": {},
     "title": ""
    }
   },
   "outputs": [],
   "source": [
    "spark.sql(\"select * from bronze_incremental_orders\").show()"
   ]
  },
  {
   "cell_type": "code",
   "execution_count": 0,
   "metadata": {
    "application/vnd.databricks.v1+cell": {
     "cellMetadata": {
      "byteLimit": 2048000,
      "rowLimit": 10000
     },
     "inputWidgets": {},
     "nuid": "a5468a70-932b-4a5a-8ae1-ca6a78cee116",
     "showTitle": false,
     "tableResultSettingsMap": {},
     "title": ""
    }
   },
   "outputs": [],
   "source": [
    "#quantity and total_amount normalization (setting negative values to 0)\n",
    "#date casting to ensure consistent date format\n",
    "#order status derivation based on quantity and total_amount\n",
    "#filter out records with null transaction dates, customer IDs, or product IDs"
   ]
  },
  {
   "cell_type": "code",
   "execution_count": 0,
   "metadata": {
    "application/vnd.databricks.v1+cell": {
     "cellMetadata": {
      "byteLimit": 2048000,
      "rowLimit": 10000
     },
     "inputWidgets": {},
     "nuid": "8d45b02d-52ec-490b-9c4f-9d779fa01643",
     "showTitle": false,
     "tableResultSettingsMap": {},
     "title": ""
    }
   },
   "outputs": [],
   "source": [
    "spark.sql(\"\"\"\n",
    "          create or replace temporary view silver_incremental_orders as\n",
    "          select\n",
    "          transaction_id,\n",
    "          customer_id,\n",
    "          product_id,\n",
    "          case\n",
    "          when quantity < 0 then 0\n",
    "          else quantity\n",
    "          end as quantity,\n",
    "          case\n",
    "          when total_amount < 0 then 0\n",
    "          else total_amount\n",
    "          end as total_amount,\n",
    "          cast(transaction_date as date) as transaction_date,\n",
    "          payment_method,\n",
    "          store_type,\n",
    "          case\n",
    "          when quantity = 0 or total_amount = 0 then 'Cancelled'\n",
    "          else 'Completed'\n",
    "          end as order_status,\n",
    "          current_timestamp() as last_updated\n",
    "          from bronze_incremental_orders\n",
    "          where transaction_date is not null\n",
    "          and customer_id is not null\n",
    "          and product_id is not null\n",
    "          \"\"\")"
   ]
  },
  {
   "cell_type": "code",
   "execution_count": 0,
   "metadata": {
    "application/vnd.databricks.v1+cell": {
     "cellMetadata": {
      "byteLimit": 2048000,
      "rowLimit": 10000
     },
     "inputWidgets": {},
     "nuid": "49e75469-f324-4a99-956f-b4079031c02f",
     "showTitle": false,
     "tableResultSettingsMap": {},
     "title": ""
    }
   },
   "outputs": [],
   "source": [
    "spark.sql(\"select * from silver_incremental_orders\").show()"
   ]
  },
  {
   "cell_type": "code",
   "execution_count": 0,
   "metadata": {
    "application/vnd.databricks.v1+cell": {
     "cellMetadata": {
      "byteLimit": 2048000,
      "rowLimit": 10000
     },
     "inputWidgets": {},
     "nuid": "73fb97df-ee3b-4cca-a485-ca3d7c4da968",
     "showTitle": false,
     "tableResultSettingsMap": {},
     "title": ""
    }
   },
   "outputs": [],
   "source": [
    "spark.sql(\"\"\"\n",
    "          merge into silver_orders target\n",
    "          using silver_incremental_orders source\n",
    "          on target.transaction_id = source.transaction_id\n",
    "          when matched then\n",
    "          update set *\n",
    "          when not matched then\n",
    "          insert *\n",
    "          \"\"\")"
   ]
  },
  {
   "cell_type": "code",
   "execution_count": 0,
   "metadata": {
    "application/vnd.databricks.v1+cell": {
     "cellMetadata": {
      "byteLimit": 2048000,
      "implicitDf": true,
      "rowLimit": 10000
     },
     "inputWidgets": {},
     "nuid": "fa655827-ed54-4ad0-bd97-e8199f3e5f01",
     "showTitle": false,
     "tableResultSettingsMap": {},
     "title": ""
    }
   },
   "outputs": [],
   "source": [
    "%sql\n",
    "select * from silver_orders"
   ]
  },
  {
   "cell_type": "code",
   "execution_count": 0,
   "metadata": {
    "application/vnd.databricks.v1+cell": {
     "cellMetadata": {},
     "inputWidgets": {},
     "nuid": "1b481669-118e-465e-a65c-716e4b664886",
     "showTitle": false,
     "tableResultSettingsMap": {},
     "title": ""
    }
   },
   "outputs": [],
   "source": []
  }
 ],
 "metadata": {
  "application/vnd.databricks.v1+notebook": {
   "computePreferences": null,
   "dashboards": [],
   "environmentMetadata": {
    "base_environment": "",
    "client": "1"
   },
   "language": "python",
   "notebookMetadata": {
    "mostRecentlyExecutedCommandWithImplicitDF": {
     "commandId": 6176467659145398,
     "dataframes": [
      "_sqldf"
     ]
    },
    "pythonIndentUnit": 4
   },
   "notebookName": "Silver_layer_Transactions_load",
   "widgets": {}
  },
  "language_info": {
   "name": "python"
  }
 },
 "nbformat": 4,
 "nbformat_minor": 0
}
