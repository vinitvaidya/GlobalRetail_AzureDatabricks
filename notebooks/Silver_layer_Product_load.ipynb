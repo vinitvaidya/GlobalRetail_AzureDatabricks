{
 "cells": [
  {
   "cell_type": "code",
   "execution_count": 0,
   "metadata": {
    "application/vnd.databricks.v1+cell": {
     "cellMetadata": {
      "byteLimit": 2048000,
      "rowLimit": 10000
     },
     "inputWidgets": {},
     "nuid": "9162ca30-1830-4702-8826-24a978d17254",
     "showTitle": false,
     "tableResultSettingsMap": {},
     "title": ""
    }
   },
   "outputs": [],
   "source": [
    "spark.sql(\"use globalretail_silver\")\n",
    "spark.sql(\"\"\"\n",
    "          create table if not exists silver_products (\n",
    "              product_id string,\n",
    "              name string,\n",
    "              category string,\n",
    "              brand string,\n",
    "              price double,\n",
    "              stock_quantity int,\n",
    "              rating double,\n",
    "              is_active boolean,\n",
    "              price_category string,\n",
    "              stock_status string,\n",
    "              last_updated timestamp\n",
    "          )\n",
    "          using delta\n",
    "          \"\"\") "
   ]
  },
  {
   "cell_type": "code",
   "execution_count": 0,
   "metadata": {
    "application/vnd.databricks.v1+cell": {
     "cellMetadata": {
      "byteLimit": 2048000,
      "rowLimit": 10000
     },
     "inputWidgets": {},
     "nuid": "d27a5e1c-e6a0-47ee-bd41-76b015620608",
     "showTitle": false,
     "tableResultSettingsMap": {},
     "title": ""
    }
   },
   "outputs": [],
   "source": [
    "last_processed_df = spark.sql(\"select max(last_updated) as last_processed from silver_products\")\n",
    "last_processed_timestamp = last_processed_df.collect()[0]['last_processed']\n",
    "if last_processed_timestamp is None:\n",
    "    last_processed_timestamp = '1900-01-01T00:00:00.000+00:00'"
   ]
  },
  {
   "cell_type": "code",
   "execution_count": 0,
   "metadata": {
    "application/vnd.databricks.v1+cell": {
     "cellMetadata": {
      "byteLimit": 2048000,
      "rowLimit": 10000
     },
     "inputWidgets": {},
     "nuid": "dee36d4f-ac67-490c-97b7-b9ba25ed58d4",
     "showTitle": false,
     "tableResultSettingsMap": {},
     "title": ""
    }
   },
   "outputs": [],
   "source": [
    "spark.sql(f\"\"\"\n",
    "          create or replace temporary view bronze_incremental_products as\n",
    "          select * \n",
    "          from globalretail_bronze.bronze_products where ingestion_timestamp > '{last_processed_timestamp}'\n",
    "          \"\"\")"
   ]
  },
  {
   "cell_type": "code",
   "execution_count": 0,
   "metadata": {
    "application/vnd.databricks.v1+cell": {
     "cellMetadata": {
      "byteLimit": 2048000,
      "rowLimit": 10000
     },
     "inputWidgets": {},
     "nuid": "614ec994-f792-4c22-aa8e-095f5c054dd8",
     "showTitle": false,
     "tableResultSettingsMap": {},
     "title": ""
    }
   },
   "outputs": [],
   "source": [
    "#price normalization (setting negative prices to 0)\n",
    "#stock quantity normalization (setting negative stock to 0)\n",
    "#rating normalization (clamping between 0 and 5)\n",
    "#price categorization (premium, standard, budget)\n",
    "#stock status calculation (out of stock, low stock, moderate stock, sufficient stock)"
   ]
  },
  {
   "cell_type": "code",
   "execution_count": 0,
   "metadata": {
    "application/vnd.databricks.v1+cell": {
     "cellMetadata": {
      "byteLimit": 2048000,
      "rowLimit": 10000
     },
     "inputWidgets": {},
     "nuid": "e685489a-fdce-42c8-89c2-60a80dba07f1",
     "showTitle": false,
     "tableResultSettingsMap": {},
     "title": ""
    }
   },
   "outputs": [],
   "source": [
    "spark.sql(\"\"\"\n",
    "          create or replace temporary view silver_incremental_products as\n",
    "          select\n",
    "          product_id,\n",
    "          name,\n",
    "          category,\n",
    "          brand,\n",
    "          case\n",
    "          when price < 0 then 0 \n",
    "          else price \n",
    "          end as price,\n",
    "          case \n",
    "          when stock_quantity < 0 then 0\n",
    "          else stock_quantity\n",
    "          end as stock_quantity,\n",
    "          case\n",
    "          when rating < 0 then 0\n",
    "          when rating > 5 then 5\n",
    "          else rating\n",
    "          end as rating,\n",
    "          is_active,\n",
    "          case\n",
    "          when price > 1000 then 'Premium'\n",
    "          when price > 100 then 'Standard'\n",
    "          else 'Budget'\n",
    "          end as price_category,\n",
    "          case\n",
    "          when stock_quantity = 0 then 'Out of Stock'\n",
    "          when stock_quantity < 10 then 'Low Stock'\n",
    "          when stock_quantity < 50 then 'Moderate Stock'\n",
    "          else\n",
    "          'Sufficient Stock'\n",
    "          end as stock_status,\n",
    "          current_timestamp() as last_updated\n",
    "          from bronze_incremental_products\n",
    "          where name is not null and category is not null\n",
    "          \"\"\")"
   ]
  },
  {
   "cell_type": "code",
   "execution_count": 0,
   "metadata": {
    "application/vnd.databricks.v1+cell": {
     "cellMetadata": {
      "byteLimit": 2048000,
      "rowLimit": 10000
     },
     "inputWidgets": {},
     "nuid": "19d4059b-e9fe-4c41-b563-8e1592c91fec",
     "showTitle": false,
     "tableResultSettingsMap": {},
     "title": ""
    }
   },
   "outputs": [],
   "source": [
    "spark.sql(\"\"\"\n",
    "          merge into silver_products target\n",
    "          using silver_incremental_products source\n",
    "          on target.product_id = source.product_id\n",
    "          when matched then\n",
    "          update set *\n",
    "          when not matched then\n",
    "          insert *\n",
    "          \"\"\")"
   ]
  },
  {
   "cell_type": "code",
   "execution_count": 0,
   "metadata": {
    "application/vnd.databricks.v1+cell": {
     "cellMetadata": {
      "byteLimit": 2048000,
      "implicitDf": true,
      "rowLimit": 10000
     },
     "inputWidgets": {},
     "nuid": "8a95fa06-1c32-4b73-b54d-b2bbc52afc2c",
     "showTitle": false,
     "tableResultSettingsMap": {},
     "title": ""
    }
   },
   "outputs": [],
   "source": [
    "%sql\n",
    "select * from globalretail_silver.silver_products"
   ]
  },
  {
   "cell_type": "code",
   "execution_count": 0,
   "metadata": {
    "application/vnd.databricks.v1+cell": {
     "cellMetadata": {},
     "inputWidgets": {},
     "nuid": "3656c95a-9343-40e0-9d8e-b610e4c40d08",
     "showTitle": false,
     "tableResultSettingsMap": {},
     "title": ""
    }
   },
   "outputs": [],
   "source": []
  }
 ],
 "metadata": {
  "application/vnd.databricks.v1+notebook": {
   "computePreferences": null,
   "dashboards": [],
   "environmentMetadata": {
    "base_environment": "",
    "client": "1"
   },
   "language": "python",
   "notebookMetadata": {
    "mostRecentlyExecutedCommandWithImplicitDF": {
     "commandId": 6176467659145387,
     "dataframes": [
      "_sqldf"
     ]
    },
    "pythonIndentUnit": 4
   },
   "notebookName": "Silver_layer_Product_load",
   "widgets": {}
  },
  "language_info": {
   "name": "python"
  }
 },
 "nbformat": 4,
 "nbformat_minor": 0
}
